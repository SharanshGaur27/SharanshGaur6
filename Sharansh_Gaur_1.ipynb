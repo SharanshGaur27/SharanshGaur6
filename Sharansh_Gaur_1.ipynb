{
  "nbformat": 4,
  "nbformat_minor": 0,
  "metadata": {
    "colab": {
      "name": "Sharansh_Gaur_1.ipynb",
      "provenance": []
    },
    "kernelspec": {
      "name": "python3",
      "display_name": "Python 3"
    },
    "language_info": {
      "name": "python"
    }
  },
  "cells": [
    {
      "cell_type": "code",
      "metadata": {
        "colab": {
          "base_uri": "https://localhost:8080/"
        },
        "id": "ucx-5wy6K5Cs",
        "outputId": "d9c570b7-62e3-43b2-a4da-3d5be3d76585"
      },
      "source": [
        "import requests\n",
        "from datetime import datetime\n",
        "api_key='87d845b0b6cf29baa1a73cc34b067a95'\n",
        "location= input(\"Enter the city name: \")\n",
        "complete_api_link=\"https://api.openweathermap.org/data/2.5/weather?q=\"+location+\"&appid=\"+api_key\n",
        "api_link=requests.get(complete_api_link)\n",
        "api_data=api_link.json()\n",
        "temp_city =((api_data['main']['temp'])- 273.15)\n",
        "weather_desc=api_data['weather'][0]['description']\n",
        "hmdt= api_data['main']['humidity']\n",
        "wind_spd= api_data['wind']['speed']\n",
        "date_time=datetime.now().strftime(\"%d %b %Y | %I:%M:%S %p\")\n",
        "print(\"-----------------------------------------------------------\")\n",
        "print(\"Weather Stats for - {} || {}\".format(location.upper(),date_time))\n",
        "print(\"-----------------------------------------------------------\")\n",
        "print(\"Current tempearture is:{:.2f}deg C\".format(temp_city))\n",
        "print(\"Current weather desc :\",weather_desc)\n",
        "print(\"Current Humidity :\",hmdt, '%')\n",
        "print(\"Current wind speed :\",wind_spd, 'kmph')\n"
      ],
      "execution_count": 1,
      "outputs": [
        {
          "output_type": "stream",
          "text": [
            "Enter the city name: Kanpur\n",
            "-----------------------------------------------------------\n",
            "Weather Stats for - KANPUR || 23 Jun 2021 | 05:19:28 PM\n",
            "-----------------------------------------------------------\n",
            "Current tempearture is:31.02deg C\n",
            "Current weather desc : scattered clouds\n",
            "Current Humidity : 58 %\n",
            "Current wind speed : 4.27 kmph\n"
          ],
          "name": "stdout"
        }
      ]
    }
  ]
}